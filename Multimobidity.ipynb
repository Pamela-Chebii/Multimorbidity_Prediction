{
 "cells": [
  {
   "cell_type": "markdown",
   "id": "ad8b68d3",
   "metadata": {},
   "source": [
    "# Mutimobidity prediction"
   ]
  },
  {
   "cell_type": "markdown",
   "id": "852c7356",
   "metadata": {},
   "source": [
    "## 1. Basic Data Understanding\n",
    "### a) Importing Libraries"
   ]
  },
  {
   "cell_type": "code",
   "execution_count": 1,
   "id": "499eb190",
   "metadata": {},
   "outputs": [],
   "source": [
    "import pandas as pd\n",
    "import numpy as np\n",
    "from sklearn.model_selection import train_test_split\n",
    "from sklearn.impute import SimpleImputer\n",
    "from sklearn.preprocessing import StandardScaler\n",
    "from sklearn.pipeline import Pipeline\n",
    "from sklearn.compose import ColumnTransformer\n",
    "from sklearn.linear_model import LogisticRegression\n",
    "from sklearn.ensemble import RandomForestClassifier\n",
    "from sklearn.metrics import classification_report, roc_auc_score, confusion_matrix\n",
    "import seaborn as sns\n",
    "import matplotlib.pyplot as plt"
   ]
  },
  {
   "cell_type": "markdown",
   "id": "b7b93c07",
   "metadata": {},
   "source": [
    "### b) Loading Multimobidity Dataset"
   ]
  },
  {
   "cell_type": "code",
   "execution_count": 2,
   "id": "d832ad66",
   "metadata": {},
   "outputs": [
    {
     "data": {
      "text/html": [
       "<div>\n",
       "<style scoped>\n",
       "    .dataframe tbody tr th:only-of-type {\n",
       "        vertical-align: middle;\n",
       "    }\n",
       "\n",
       "    .dataframe tbody tr th {\n",
       "        vertical-align: top;\n",
       "    }\n",
       "\n",
       "    .dataframe thead th {\n",
       "        text-align: right;\n",
       "    }\n",
       "</style>\n",
       "<table border=\"1\" class=\"dataframe\">\n",
       "  <thead>\n",
       "    <tr style=\"text-align: right;\">\n",
       "      <th></th>\n",
       "      <th>Age</th>\n",
       "      <th>Gender</th>\n",
       "      <th>Polyuria</th>\n",
       "      <th>Weight_loss</th>\n",
       "      <th>Weakness</th>\n",
       "      <th>Polyphagia</th>\n",
       "      <th>Genital_thrush</th>\n",
       "      <th>Visual_blurring</th>\n",
       "      <th>Itching</th>\n",
       "      <th>Irritability</th>\n",
       "      <th>Delayed_healing</th>\n",
       "      <th>Partial_paresis</th>\n",
       "      <th>Muscle_stiffness</th>\n",
       "      <th>Alopecia</th>\n",
       "      <th>Obesity</th>\n",
       "      <th>Multimorbidity</th>\n",
       "    </tr>\n",
       "  </thead>\n",
       "  <tbody>\n",
       "    <tr>\n",
       "      <th>0</th>\n",
       "      <td>71</td>\n",
       "      <td>Male</td>\n",
       "      <td>0</td>\n",
       "      <td>0</td>\n",
       "      <td>1</td>\n",
       "      <td>0</td>\n",
       "      <td>0</td>\n",
       "      <td>1</td>\n",
       "      <td>0</td>\n",
       "      <td>1</td>\n",
       "      <td>0</td>\n",
       "      <td>0</td>\n",
       "      <td>0</td>\n",
       "      <td>0</td>\n",
       "      <td>0</td>\n",
       "      <td>1</td>\n",
       "    </tr>\n",
       "    <tr>\n",
       "      <th>1</th>\n",
       "      <td>34</td>\n",
       "      <td>Female</td>\n",
       "      <td>0</td>\n",
       "      <td>0</td>\n",
       "      <td>1</td>\n",
       "      <td>0</td>\n",
       "      <td>0</td>\n",
       "      <td>1</td>\n",
       "      <td>0</td>\n",
       "      <td>0</td>\n",
       "      <td>0</td>\n",
       "      <td>0</td>\n",
       "      <td>0</td>\n",
       "      <td>0</td>\n",
       "      <td>0</td>\n",
       "      <td>1</td>\n",
       "    </tr>\n",
       "    <tr>\n",
       "      <th>2</th>\n",
       "      <td>80</td>\n",
       "      <td>Male</td>\n",
       "      <td>0</td>\n",
       "      <td>1</td>\n",
       "      <td>0</td>\n",
       "      <td>0</td>\n",
       "      <td>0</td>\n",
       "      <td>0</td>\n",
       "      <td>1</td>\n",
       "      <td>0</td>\n",
       "      <td>0</td>\n",
       "      <td>0</td>\n",
       "      <td>0</td>\n",
       "      <td>0</td>\n",
       "      <td>0</td>\n",
       "      <td>1</td>\n",
       "    </tr>\n",
       "    <tr>\n",
       "      <th>3</th>\n",
       "      <td>40</td>\n",
       "      <td>Male</td>\n",
       "      <td>1</td>\n",
       "      <td>0</td>\n",
       "      <td>0</td>\n",
       "      <td>1</td>\n",
       "      <td>0</td>\n",
       "      <td>1</td>\n",
       "      <td>0</td>\n",
       "      <td>1</td>\n",
       "      <td>0</td>\n",
       "      <td>0</td>\n",
       "      <td>1</td>\n",
       "      <td>0</td>\n",
       "      <td>0</td>\n",
       "      <td>0</td>\n",
       "    </tr>\n",
       "    <tr>\n",
       "      <th>4</th>\n",
       "      <td>43</td>\n",
       "      <td>Male</td>\n",
       "      <td>0</td>\n",
       "      <td>1</td>\n",
       "      <td>0</td>\n",
       "      <td>1</td>\n",
       "      <td>0</td>\n",
       "      <td>1</td>\n",
       "      <td>1</td>\n",
       "      <td>0</td>\n",
       "      <td>0</td>\n",
       "      <td>1</td>\n",
       "      <td>0</td>\n",
       "      <td>0</td>\n",
       "      <td>0</td>\n",
       "      <td>0</td>\n",
       "    </tr>\n",
       "  </tbody>\n",
       "</table>\n",
       "</div>"
      ],
      "text/plain": [
       "   Age  Gender  Polyuria  Weight_loss  Weakness  Polyphagia  Genital_thrush  \\\n",
       "0   71    Male         0            0         1           0               0   \n",
       "1   34  Female         0            0         1           0               0   \n",
       "2   80    Male         0            1         0           0               0   \n",
       "3   40    Male         1            0         0           1               0   \n",
       "4   43    Male         0            1         0           1               0   \n",
       "\n",
       "   Visual_blurring  Itching  Irritability  Delayed_healing  Partial_paresis  \\\n",
       "0                1        0             1                0                0   \n",
       "1                1        0             0                0                0   \n",
       "2                0        1             0                0                0   \n",
       "3                1        0             1                0                0   \n",
       "4                1        1             0                0                1   \n",
       "\n",
       "   Muscle_stiffness  Alopecia  Obesity  Multimorbidity  \n",
       "0                 0         0        0               1  \n",
       "1                 0         0        0               1  \n",
       "2                 0         0        0               1  \n",
       "3                 1         0        0               0  \n",
       "4                 0         0        0               0  "
      ]
     },
     "execution_count": 2,
     "metadata": {},
     "output_type": "execute_result"
    }
   ],
   "source": [
    "df = pd.read_csv(\"synthetic_multimorbidity_dataset FOR training the models.csv\")\n",
    "df.head()"
   ]
  },
  {
   "cell_type": "markdown",
   "id": "f0044809",
   "metadata": {},
   "source": [
    "#### b) Check column info to confirm column types and missing values"
   ]
  },
  {
   "cell_type": "code",
   "execution_count": 3,
   "id": "7266cd96",
   "metadata": {},
   "outputs": [
    {
     "name": "stdout",
     "output_type": "stream",
     "text": [
      "<class 'pandas.core.frame.DataFrame'>\n",
      "RangeIndex: 1000 entries, 0 to 999\n",
      "Data columns (total 16 columns):\n",
      " #   Column            Non-Null Count  Dtype \n",
      "---  ------            --------------  ----- \n",
      " 0   Age               1000 non-null   int64 \n",
      " 1   Gender            1000 non-null   object\n",
      " 2   Polyuria          1000 non-null   int64 \n",
      " 3   Weight_loss       1000 non-null   int64 \n",
      " 4   Weakness          1000 non-null   int64 \n",
      " 5   Polyphagia        1000 non-null   int64 \n",
      " 6   Genital_thrush    1000 non-null   int64 \n",
      " 7   Visual_blurring   1000 non-null   int64 \n",
      " 8   Itching           1000 non-null   int64 \n",
      " 9   Irritability      1000 non-null   int64 \n",
      " 10  Delayed_healing   1000 non-null   int64 \n",
      " 11  Partial_paresis   1000 non-null   int64 \n",
      " 12  Muscle_stiffness  1000 non-null   int64 \n",
      " 13  Alopecia          1000 non-null   int64 \n",
      " 14  Obesity           1000 non-null   int64 \n",
      " 15  Multimorbidity    1000 non-null   int64 \n",
      "dtypes: int64(15), object(1)\n",
      "memory usage: 125.1+ KB\n"
     ]
    }
   ],
   "source": [
    "df.info()"
   ]
  },
  {
   "cell_type": "markdown",
   "id": "15aa5e86",
   "metadata": {},
   "source": [
    "## Exploratory Data Analysis"
   ]
  },
  {
   "cell_type": "markdown",
   "id": "00a0e5ab",
   "metadata": {},
   "source": [
    "### 1. Check Target Distribution & Visualize\n",
    "#### a) Countplot (absolute counts)"
   ]
  },
  {
   "cell_type": "code",
   "execution_count": 4,
   "id": "2de586c4",
   "metadata": {},
   "outputs": [
    {
     "data": {
      "image/png": "[encoded data removed]",
      "text/plain": [
       "<Figure size 500x400 with 1 Axes>"
      ]
     },
     "metadata": {},
     "output_type": "display_data"
    }
   ],
   "source": [
    "import matplotlib.pyplot as plt\n",
    "import seaborn as sns\n",
    "\n",
    "plt.figure(figsize=(5,4))\n",
    "sns.countplot(x='Multimorbidity', hue= \"Multimorbidity\", \n",
    "              legend= False, data=df, palette='viridis')\n",
    "plt.title('Distribution of Target Class (Multimorbidity)')\n",
    "plt.xlabel('Multimorbidity')\n",
    "plt.ylabel('Count')\n",
    "plt.show()\n"
   ]
  },
  {
   "cell_type": "markdown",
   "id": "48f2f72c",
   "metadata": {},
   "source": [
    "#### b) Pie chart (proportions)"
   ]
  },
  {
   "cell_type": "code",
   "execution_count": 5,
   "id": "f96034a9",
   "metadata": {},
   "outputs": [
    {
     "data": {
      "image/png": "[encoded data removed]",
      "text/plain": [
       "<Figure size 500x500 with 1 Axes>"
      ]
     },
     "metadata": {},
     "output_type": "display_data"
    }
   ],
   "source": [
    "plt.figure(figsize=(5,5))\n",
    "df['Multimorbidity'].value_counts().plot.pie(\n",
    "    autopct='%1.1f%%', startangle=90, counterclock=False, colors=['#66c2a5','#fc8d62']\n",
    ")\n",
    "plt.ylabel('')\n",
    "plt.title('Multimorbidity Class Distribution')\n",
    "plt.show()\n"
   ]
  },
  {
   "cell_type": "markdown",
   "id": "84f2449e",
   "metadata": {},
   "source": [
    "From the two plots, the dataset is imbalanced:\n",
    "\n",
    "- Class 0 (no multimorbidity) ~ 330 cases ~ 32.7%\n",
    "\n",
    "- Class 1 (with multimorbidity) ≈ 670 cases ~ 67.3%"
   ]
  }
 ],
 "metadata": {
  "kernelspec": {
   "display_name": "Python 3",
   "language": "python",
   "name": "python3"
  },
  "language_info": {
   "codemirror_mode": {
    "name": "ipython",
    "version": 3
   },
   "file_extension": ".py",
   "mimetype": "text/x-python",
   "name": "python",
   "nbconvert_exporter": "python",
   "pygments_lexer": "ipython3",
   "version": "3.10.14"
  }
 },
 "nbformat": 4,
 "nbformat_minor": 5
}
